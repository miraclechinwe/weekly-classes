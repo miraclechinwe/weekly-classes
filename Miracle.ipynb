{
 "cells": [
  {
   "cell_type": "code",
   "execution_count": 11,
   "id": "91d07f16",
   "metadata": {},
   "outputs": [],
   "source": [
    "import miracle"
   ]
  },
  {
   "cell_type": "code",
   "execution_count": 12,
   "id": "01f1d630",
   "metadata": {},
   "outputs": [
    {
     "data": {
      "text/plain": [
       "'work'"
      ]
     },
     "execution_count": 12,
     "metadata": {},
     "output_type": "execute_result"
    }
   ],
   "source": [
    "miracle.variable"
   ]
  },
  {
   "cell_type": "code",
   "execution_count": 13,
   "id": "b8a7c765",
   "metadata": {},
   "outputs": [
    {
     "name": "stdout",
     "output_type": "stream",
     "text": [
      "prince\n"
     ]
    }
   ],
   "source": [
    "miracle.miracle(\"prince\")"
   ]
  },
  {
   "cell_type": "code",
   "execution_count": null,
   "id": "a7ae948e",
   "metadata": {},
   "outputs": [],
   "source": [
    "Owhorji.Owhorji"
   ]
  }
 ],
 "metadata": {
  "kernelspec": {
   "display_name": "Python 3 (ipykernel)",
   "language": "python",
   "name": "python3"
  },
  "language_info": {
   "codemirror_mode": {
    "name": "ipython",
    "version": 3
   },
   "file_extension": ".py",
   "mimetype": "text/x-python",
   "name": "python",
   "nbconvert_exporter": "python",
   "pygments_lexer": "ipython3",
   "version": "3.9.18"
  }
 },
 "nbformat": 4,
 "nbformat_minor": 5
}
